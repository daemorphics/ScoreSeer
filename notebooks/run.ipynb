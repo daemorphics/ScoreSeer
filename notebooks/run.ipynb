{
 "cells": [
  {
   "cell_type": "code",
   "execution_count": 2,
   "id": "68b43389",
   "metadata": {},
   "outputs": [
    {
     "name": "stdout",
     "output_type": "stream",
     "text": [
      "   Unnamed: 0        date   time     comp        round  day venue result   gf  \\\n",
      "0           0  2024-08-17  21:30  La Liga  Matchweek 1  Sat  Away      W  2.0   \n",
      "1           1  2024-08-24  19:00  La Liga  Matchweek 2  Sat  Home      W  2.0   \n",
      "2           2  2024-08-27  21:30  La Liga  Matchweek 3  Tue  Away      W  2.0   \n",
      "3           3  2024-08-31  17:00  La Liga  Matchweek 4  Sat  Home      W  7.0   \n",
      "4           4  2024-09-15  16:15  La Liga  Matchweek 5  Sun  Away      W  4.0   \n",
      "\n",
      "    ga  ...  match report  notes    sh   sot  dist   fk pk pkatt season  \\\n",
      "0  1.0  ...  Match Report    NaN  17.0   5.0  18.6  1.0  1     1   2025   \n",
      "1  1.0  ...  Match Report    NaN  13.0   5.0  16.6  0.0  0     0   2025   \n",
      "2  1.0  ...  Match Report    NaN  22.0   5.0  19.3  1.0  0     0   2025   \n",
      "3  0.0  ...  Match Report    NaN  23.0  11.0  13.7  1.0  0     0   2025   \n",
      "4  1.0  ...  Match Report    NaN  20.0   9.0  19.1  0.0  0     0   2025   \n",
      "\n",
      "        team  \n",
      "0  Barcelona  \n",
      "1  Barcelona  \n",
      "2  Barcelona  \n",
      "3  Barcelona  \n",
      "4  Barcelona  \n",
      "\n",
      "[5 rows x 29 columns]\n",
      "<class 'pandas.core.frame.DataFrame'>\n",
      "RangeIndex: 4318 entries, 0 to 4317\n",
      "Data columns (total 29 columns):\n",
      " #   Column         Non-Null Count  Dtype  \n",
      "---  ------         --------------  -----  \n",
      " 0   Unnamed: 0     4318 non-null   int64  \n",
      " 1   date           4318 non-null   object \n",
      " 2   time           4318 non-null   object \n",
      " 3   comp           4318 non-null   object \n",
      " 4   round          4318 non-null   object \n",
      " 5   day            4318 non-null   object \n",
      " 6   venue          4318 non-null   object \n",
      " 7   result         4318 non-null   object \n",
      " 8   gf             4318 non-null   float64\n",
      " 9   ga             4318 non-null   float64\n",
      " 10  opponent       4318 non-null   object \n",
      " 11  xg             4318 non-null   float64\n",
      " 12  xga            4318 non-null   float64\n",
      " 13  poss           4318 non-null   float64\n",
      " 14  attendance     3344 non-null   float64\n",
      " 15  captain        4318 non-null   object \n",
      " 16  formation      4318 non-null   object \n",
      " 17  opp formation  4318 non-null   object \n",
      " 18  referee        4264 non-null   object \n",
      " 19  match report   4318 non-null   object \n",
      " 20  notes          0 non-null      float64\n",
      " 21  sh             4318 non-null   float64\n",
      " 22  sot            4318 non-null   float64\n",
      " 23  dist           4315 non-null   float64\n",
      " 24  fk             4318 non-null   float64\n",
      " 25  pk             4318 non-null   int64  \n",
      " 26  pkatt          4318 non-null   int64  \n",
      " 27  season         4318 non-null   int64  \n",
      " 28  team           4318 non-null   object \n",
      "dtypes: float64(11), int64(4), object(14)\n",
      "memory usage: 978.4+ KB\n",
      "None\n"
     ]
    }
   ],
   "source": [
    "import pandas as pd\n",
    "import os\n",
    "\n",
    "# Ganti path jika Anda memindahkan file\n",
    "base_path = 'E:\\\\BACKUP DRIVE D\\\\Kerjaan\\\\AI Engineering\\\\ScoreSeer'\n",
    "file_path = os.path.join(base_path, 'data', 'raw', 'matches_full.csv')\n",
    "df = pd.read_csv(file_path)\n",
    "\n",
    "# Menampilkan beberapa baris pertama dari DataFrame\n",
    "print(df.head())\n",
    "\n",
    "# Menampilkan informasi umum tentang DataFrame, termasuk tipe data kolom\n",
    "print(df.info())"
   ]
  }
 ],
 "metadata": {
  "kernelspec": {
   "display_name": "base",
   "language": "python",
   "name": "python3"
  },
  "language_info": {
   "codemirror_mode": {
    "name": "ipython",
    "version": 3
   },
   "file_extension": ".py",
   "mimetype": "text/x-python",
   "name": "python",
   "nbconvert_exporter": "python",
   "pygments_lexer": "ipython3",
   "version": "3.12.7"
  }
 },
 "nbformat": 4,
 "nbformat_minor": 5
}
